{
 "cells": [
  {
   "cell_type": "code",
   "execution_count": 1,
   "metadata": {},
   "outputs": [],
   "source": [
    "import cv2\n",
    "import numpy as np \n",
    "from matplotlib import pyplot as plt\n",
    "import math"
   ]
  },
  {
   "cell_type": "code",
   "execution_count": 2,
   "metadata": {},
   "outputs": [],
   "source": [
    "def show(img):\n",
    "    cv2.imshow(\"image\",img)\n",
    "    cv2.waitKey(0)\n",
    "    cv2.destroyAllWindows()\n",
    "def sho(img):\n",
    "    img = cv2.cvtColor(img, cv2.COLOR_BGR2RGB)\n",
    "    pixels = np.array(img)\n",
    "    plt.imshow(pixels)\n",
    "    plt.show()"
   ]
  },
  {
   "cell_type": "code",
   "execution_count": 3,
   "metadata": {},
   "outputs": [],
   "source": [
    "def HoughLines(img,thetaRes=1,rhoRes=1):\n",
    "    gray = cv2.cvtColor(img,cv2.COLOR_BGR2GRAY)\n",
    "    edges = cv2.Canny(gray,50,150,apertureSize = 3) \n",
    "\n",
    "    thetas = np.deg2rad(np.arange(-90,90,thetaRes))\n",
    "    cos_t = np.cos(thetas)\n",
    "    sin_t = np.sin(thetas)\n",
    "    nthetas = len(thetas)\n",
    "    \n",
    "    h, w=edges.shape\n",
    "    dia= math.sqrt(w*w+h*h)\n",
    "    dia=round(dia)\n",
    "    D=2*dia+1\n",
    "    rhos = np.arange(-dia,dia,rhoRes)\n",
    "    nrhos = len(rhos)\n",
    "    \n",
    "    acc=np.zeros(shape=(nrhos,nthetas))\n",
    "    for i in range(h):\n",
    "        for j in range(w):\n",
    "            for k in range(nthetas):\n",
    "                if(edges[i][j]>0):\n",
    "                    a = cos_t[k]\n",
    "                    b = sin_t[k]\n",
    "                    rho = int((j+1)*a+(i+1)*b)+dia\n",
    "#                     print(rho)\n",
    "                    acc[rho][k]+=1\n",
    "#     plt.imshow(lines, cmap=\"gray\")\n",
    "#     plt.show()\n",
    "    return acc,thetas,rhos"
   ]
  },
  {
   "cell_type": "code",
   "execution_count": 4,
   "metadata": {},
   "outputs": [],
   "source": [
    "def hough_peaks(H,n):\n",
    "    flat = H.flatten()\n",
    "    flat = np.argsort(flat)\n",
    "    y = np.round(flat/H.shape[1])\n",
    "    x = np.round(flat%H.shape[1])\n",
    "    res = np.zeros(shape=(2,n))\n",
    "    res[0] = x[-n:]\n",
    "    res[1] = y[-n:]\n",
    "    res = res.astype(int)\n",
    "    return res"
   ]
  },
  {
   "cell_type": "code",
   "execution_count": 5,
   "metadata": {},
   "outputs": [],
   "source": [
    "def drawLines(img,lines,theta,rho):\n",
    "    img1 = img\n",
    "    count=0\n",
    "    for i in range(len(lines[0])):\n",
    "        count+=1\n",
    "        rhox = lines[1][i]\n",
    "        thetax = lines[0][i]\n",
    "        rhox = rho[rhox]\n",
    "        thetax = theta[thetax]\n",
    "        a = math.cos(thetax)\n",
    "        b = math.sin(thetax)\n",
    "        x0 = a * rhox\n",
    "        y0 = b * rhox\n",
    "        pt1 = (int(x0 + 2000*(-b)), int(y0 + 2000*(a)))\n",
    "        pt2 = (int(x0 - 2000*(-b)), int(y0 - 2000*(a)))\n",
    "        cv2.line(img1, pt1, pt2, (0,0,255), 1, cv2.LINE_AA)\n",
    "    return img1"
   ]
  },
  {
   "cell_type": "code",
   "execution_count": 6,
   "metadata": {},
   "outputs": [],
   "source": [
    "img = cv2.imread(\"ps1.png\")\n",
    "H,theta,rho = HoughLines(img)"
   ]
  },
  {
   "cell_type": "code",
   "execution_count": 9,
   "metadata": {
    "scrolled": true
   },
   "outputs": [
    {
     "data": {
      "text/plain": [
       "array([[0., 0., 0., ..., 0., 0., 0.],\n",
       "       [0., 0., 0., ..., 0., 0., 0.],\n",
       "       [0., 0., 0., ..., 0., 0., 0.],\n",
       "       ...,\n",
       "       [0., 0., 0., ..., 0., 0., 0.],\n",
       "       [0., 0., 0., ..., 0., 0., 0.],\n",
       "       [0., 0., 0., ..., 0., 0., 0.]])"
      ]
     },
     "execution_count": 9,
     "metadata": {},
     "output_type": "execute_result"
    }
   ],
   "source": [
    "H"
   ]
  },
  {
   "cell_type": "code",
   "execution_count": 10,
   "metadata": {},
   "outputs": [
    {
     "data": {
      "text/plain": [
       "array([-1.57079633, -1.55334303, -1.53588974, -1.51843645, -1.50098316,\n",
       "       -1.48352986, -1.46607657, -1.44862328, -1.43116999, -1.41371669,\n",
       "       -1.3962634 , -1.37881011, -1.36135682, -1.34390352, -1.32645023,\n",
       "       -1.30899694, -1.29154365, -1.27409035, -1.25663706, -1.23918377,\n",
       "       -1.22173048, -1.20427718, -1.18682389, -1.1693706 , -1.15191731,\n",
       "       -1.13446401, -1.11701072, -1.09955743, -1.08210414, -1.06465084,\n",
       "       -1.04719755, -1.02974426, -1.01229097, -0.99483767, -0.97738438,\n",
       "       -0.95993109, -0.9424778 , -0.9250245 , -0.90757121, -0.89011792,\n",
       "       -0.87266463, -0.85521133, -0.83775804, -0.82030475, -0.80285146,\n",
       "       -0.78539816, -0.76794487, -0.75049158, -0.73303829, -0.71558499,\n",
       "       -0.6981317 , -0.68067841, -0.66322512, -0.64577182, -0.62831853,\n",
       "       -0.61086524, -0.59341195, -0.57595865, -0.55850536, -0.54105207,\n",
       "       -0.52359878, -0.50614548, -0.48869219, -0.4712389 , -0.45378561,\n",
       "       -0.43633231, -0.41887902, -0.40142573, -0.38397244, -0.36651914,\n",
       "       -0.34906585, -0.33161256, -0.31415927, -0.29670597, -0.27925268,\n",
       "       -0.26179939, -0.2443461 , -0.2268928 , -0.20943951, -0.19198622,\n",
       "       -0.17453293, -0.15707963, -0.13962634, -0.12217305, -0.10471976,\n",
       "       -0.08726646, -0.06981317, -0.05235988, -0.03490659, -0.01745329,\n",
       "        0.        ,  0.01745329,  0.03490659,  0.05235988,  0.06981317,\n",
       "        0.08726646,  0.10471976,  0.12217305,  0.13962634,  0.15707963,\n",
       "        0.17453293,  0.19198622,  0.20943951,  0.2268928 ,  0.2443461 ,\n",
       "        0.26179939,  0.27925268,  0.29670597,  0.31415927,  0.33161256,\n",
       "        0.34906585,  0.36651914,  0.38397244,  0.40142573,  0.41887902,\n",
       "        0.43633231,  0.45378561,  0.4712389 ,  0.48869219,  0.50614548,\n",
       "        0.52359878,  0.54105207,  0.55850536,  0.57595865,  0.59341195,\n",
       "        0.61086524,  0.62831853,  0.64577182,  0.66322512,  0.68067841,\n",
       "        0.6981317 ,  0.71558499,  0.73303829,  0.75049158,  0.76794487,\n",
       "        0.78539816,  0.80285146,  0.82030475,  0.83775804,  0.85521133,\n",
       "        0.87266463,  0.89011792,  0.90757121,  0.9250245 ,  0.9424778 ,\n",
       "        0.95993109,  0.97738438,  0.99483767,  1.01229097,  1.02974426,\n",
       "        1.04719755,  1.06465084,  1.08210414,  1.09955743,  1.11701072,\n",
       "        1.13446401,  1.15191731,  1.1693706 ,  1.18682389,  1.20427718,\n",
       "        1.22173048,  1.23918377,  1.25663706,  1.27409035,  1.29154365,\n",
       "        1.30899694,  1.32645023,  1.34390352,  1.36135682,  1.37881011,\n",
       "        1.3962634 ,  1.41371669,  1.43116999,  1.44862328,  1.46607657,\n",
       "        1.48352986,  1.50098316,  1.51843645,  1.53588974,  1.55334303])"
      ]
     },
     "execution_count": 10,
     "metadata": {},
     "output_type": "execute_result"
    }
   ],
   "source": [
    "theta"
   ]
  },
  {
   "cell_type": "code",
   "execution_count": 11,
   "metadata": {},
   "outputs": [
    {
     "data": {
      "text/plain": [
       "array([-362, -361, -360, -359, -358, -357, -356, -355, -354, -353, -352,\n",
       "       -351, -350, -349, -348, -347, -346, -345, -344, -343, -342, -341,\n",
       "       -340, -339, -338, -337, -336, -335, -334, -333, -332, -331, -330,\n",
       "       -329, -328, -327, -326, -325, -324, -323, -322, -321, -320, -319,\n",
       "       -318, -317, -316, -315, -314, -313, -312, -311, -310, -309, -308,\n",
       "       -307, -306, -305, -304, -303, -302, -301, -300, -299, -298, -297,\n",
       "       -296, -295, -294, -293, -292, -291, -290, -289, -288, -287, -286,\n",
       "       -285, -284, -283, -282, -281, -280, -279, -278, -277, -276, -275,\n",
       "       -274, -273, -272, -271, -270, -269, -268, -267, -266, -265, -264,\n",
       "       -263, -262, -261, -260, -259, -258, -257, -256, -255, -254, -253,\n",
       "       -252, -251, -250, -249, -248, -247, -246, -245, -244, -243, -242,\n",
       "       -241, -240, -239, -238, -237, -236, -235, -234, -233, -232, -231,\n",
       "       -230, -229, -228, -227, -226, -225, -224, -223, -222, -221, -220,\n",
       "       -219, -218, -217, -216, -215, -214, -213, -212, -211, -210, -209,\n",
       "       -208, -207, -206, -205, -204, -203, -202, -201, -200, -199, -198,\n",
       "       -197, -196, -195, -194, -193, -192, -191, -190, -189, -188, -187,\n",
       "       -186, -185, -184, -183, -182, -181, -180, -179, -178, -177, -176,\n",
       "       -175, -174, -173, -172, -171, -170, -169, -168, -167, -166, -165,\n",
       "       -164, -163, -162, -161, -160, -159, -158, -157, -156, -155, -154,\n",
       "       -153, -152, -151, -150, -149, -148, -147, -146, -145, -144, -143,\n",
       "       -142, -141, -140, -139, -138, -137, -136, -135, -134, -133, -132,\n",
       "       -131, -130, -129, -128, -127, -126, -125, -124, -123, -122, -121,\n",
       "       -120, -119, -118, -117, -116, -115, -114, -113, -112, -111, -110,\n",
       "       -109, -108, -107, -106, -105, -104, -103, -102, -101, -100,  -99,\n",
       "        -98,  -97,  -96,  -95,  -94,  -93,  -92,  -91,  -90,  -89,  -88,\n",
       "        -87,  -86,  -85,  -84,  -83,  -82,  -81,  -80,  -79,  -78,  -77,\n",
       "        -76,  -75,  -74,  -73,  -72,  -71,  -70,  -69,  -68,  -67,  -66,\n",
       "        -65,  -64,  -63,  -62,  -61,  -60,  -59,  -58,  -57,  -56,  -55,\n",
       "        -54,  -53,  -52,  -51,  -50,  -49,  -48,  -47,  -46,  -45,  -44,\n",
       "        -43,  -42,  -41,  -40,  -39,  -38,  -37,  -36,  -35,  -34,  -33,\n",
       "        -32,  -31,  -30,  -29,  -28,  -27,  -26,  -25,  -24,  -23,  -22,\n",
       "        -21,  -20,  -19,  -18,  -17,  -16,  -15,  -14,  -13,  -12,  -11,\n",
       "        -10,   -9,   -8,   -7,   -6,   -5,   -4,   -3,   -2,   -1,    0,\n",
       "          1,    2,    3,    4,    5,    6,    7,    8,    9,   10,   11,\n",
       "         12,   13,   14,   15,   16,   17,   18,   19,   20,   21,   22,\n",
       "         23,   24,   25,   26,   27,   28,   29,   30,   31,   32,   33,\n",
       "         34,   35,   36,   37,   38,   39,   40,   41,   42,   43,   44,\n",
       "         45,   46,   47,   48,   49,   50,   51,   52,   53,   54,   55,\n",
       "         56,   57,   58,   59,   60,   61,   62,   63,   64,   65,   66,\n",
       "         67,   68,   69,   70,   71,   72,   73,   74,   75,   76,   77,\n",
       "         78,   79,   80,   81,   82,   83,   84,   85,   86,   87,   88,\n",
       "         89,   90,   91,   92,   93,   94,   95,   96,   97,   98,   99,\n",
       "        100,  101,  102,  103,  104,  105,  106,  107,  108,  109,  110,\n",
       "        111,  112,  113,  114,  115,  116,  117,  118,  119,  120,  121,\n",
       "        122,  123,  124,  125,  126,  127,  128,  129,  130,  131,  132,\n",
       "        133,  134,  135,  136,  137,  138,  139,  140,  141,  142,  143,\n",
       "        144,  145,  146,  147,  148,  149,  150,  151,  152,  153,  154,\n",
       "        155,  156,  157,  158,  159,  160,  161,  162,  163,  164,  165,\n",
       "        166,  167,  168,  169,  170,  171,  172,  173,  174,  175,  176,\n",
       "        177,  178,  179,  180,  181,  182,  183,  184,  185,  186,  187,\n",
       "        188,  189,  190,  191,  192,  193,  194,  195,  196,  197,  198,\n",
       "        199,  200,  201,  202,  203,  204,  205,  206,  207,  208,  209,\n",
       "        210,  211,  212,  213,  214,  215,  216,  217,  218,  219,  220,\n",
       "        221,  222,  223,  224,  225,  226,  227,  228,  229,  230,  231,\n",
       "        232,  233,  234,  235,  236,  237,  238,  239,  240,  241,  242,\n",
       "        243,  244,  245,  246,  247,  248,  249,  250,  251,  252,  253,\n",
       "        254,  255,  256,  257,  258,  259,  260,  261,  262,  263,  264,\n",
       "        265,  266,  267,  268,  269,  270,  271,  272,  273,  274,  275,\n",
       "        276,  277,  278,  279,  280,  281,  282,  283,  284,  285,  286,\n",
       "        287,  288,  289,  290,  291,  292,  293,  294,  295,  296,  297,\n",
       "        298,  299,  300,  301,  302,  303,  304,  305,  306,  307,  308,\n",
       "        309,  310,  311,  312,  313,  314,  315,  316,  317,  318,  319,\n",
       "        320,  321,  322,  323,  324,  325,  326,  327,  328,  329,  330,\n",
       "        331,  332,  333,  334,  335,  336,  337,  338,  339,  340,  341,\n",
       "        342,  343,  344,  345,  346,  347,  348,  349,  350,  351,  352,\n",
       "        353,  354,  355,  356,  357,  358,  359,  360,  361])"
      ]
     },
     "execution_count": 11,
     "metadata": {},
     "output_type": "execute_result"
    }
   ],
   "source": [
    "rho"
   ]
  },
  {
   "cell_type": "code",
   "execution_count": 13,
   "metadata": {},
   "outputs": [],
   "source": [
    "li = hough_peaks(H,6)"
   ]
  },
  {
   "cell_type": "code",
   "execution_count": 14,
   "metadata": {
    "scrolled": false
   },
   "outputs": [
    {
     "data": {
      "image/png": "[encoded data removed]",
      "text/plain": [
       "<Figure size 432x288 with 1 Axes>"
      ]
     },
     "metadata": {
      "needs_background": "light"
     },
     "output_type": "display_data"
    }
   ],
   "source": [
    "img1 = cv2.imread(\"ps1.png\")\n",
    "x = drawLines(img1,li,theta,rho)\n",
    "sho(img1)"
   ]
  },
  {
   "cell_type": "code",
   "execution_count": 20,
   "metadata": {},
   "outputs": [],
   "source": [
    "gray = cv2.cvtColor(img,cv2.COLOR_BGR2GRAY)\n",
    "edges = cv2.Canny(gray,50,150,apertureSize = 3)\n",
    "show(edges)"
   ]
  },
  {
   "cell_type": "code",
   "execution_count": 21,
   "metadata": {},
   "outputs": [],
   "source": [
    "gray = cv2.cvtColor(img,cv2.COLOR_BGR2GRAY) \n",
    "edges = cv2.Canny(gray,50,150,apertureSize = 3) \n",
    "show(edges)\n",
    "cdst = cv2.cvtColor(edges, cv2.COLOR_GRAY2BGR)\n",
    "show(cdst)"
   ]
  }
 ],
 "metadata": {
  "kernelspec": {
   "display_name": "Python 3",
   "language": "python",
   "name": "python3"
  },
  "language_info": {
   "codemirror_mode": {
    "name": "ipython",
    "version": 3
   },
   "file_extension": ".py",
   "mimetype": "text/x-python",
   "name": "python",
   "nbconvert_exporter": "python",
   "pygments_lexer": "ipython3",
   "version": "3.6.8"
  }
 },
 "nbformat": 4,
 "nbformat_minor": 4
}
